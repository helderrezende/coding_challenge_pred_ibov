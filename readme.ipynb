{
 "cells": [
  {
   "cell_type": "markdown",
   "metadata": {},
   "source": [
    "# Garde's Data Science Challenge\n",
    "\n",
    "## Objective\n",
    "\n",
    "We would like to assist portfolio managers in predicting the stock market direction. They can hold long (buy) or short (sell) positions on stock indexes with the expectation that they will increase or decrease in value, respectively. Usually, managers rebalance their short/long positions on a **weekly to monthly basis**.\n",
    "\n",
    "We will focus the current challenge on predicting the evolution of the Ibovespa Index, which is a gross total return index weighted by free float market cap and comprised of the most liquid stocks traded on the Sao Paulo Stock Exchange.\n",
    "\n",
    "We envision applying machine learning models to accomplish this task but, depending on your imagination, we could accept other kinds of models.\n",
    "\n",
    "## Data\n",
    "\n",
    "Attached in the \"data\" folder you will find five CSV files. The main file is the \"ibov.csv\" that contains 20 years' worth of data related to the daily evolution of the Ibovespa index. The other four files contain the evolution of other market indexes and macroeconomic indicators.\n",
    "These datasets are available to help you in predicting the evolution of the Ibovespa but are of optional use, it all comes down to your model choice. Below you will find a brief description of each file:\n",
    "\n",
    " - spx.csv is the evolution of the S&P 500 index, which describe the returns of the US stock market\n",
    " - uc1.csv is the 1st future of the USDBRL exchange rate\n",
    " - br_econ_uncert is an index that measures the uncertainty of the Brazilian economy, the higher the worse for businesses\n",
    " - br_gdp_yoy is the YoY evolution of Brazil's GDP (ref_date here is the period of time this YoY is referred to and release_dt is the date when this information was released)\n",
    " \n",
    "Feel free to add other data you might think is important and send it to us together with your solution.\n",
    " \n",
    "## Your solution\n",
    "\n",
    "How you frame your model together with its evaluation is up to you. Keep in mind that in theory this should be a predictive model that could potentially be put in production.\n",
    "\n",
    "We expect that your code does not present errors when executing and that you will use Python programing language. Please send us a \"requirements.txt\" file with the libraries we need to install in our environment to execute it successfully.\n",
    "\n",
    "Make use of jupyter notebooks or send us instructions on how to run your code in case you want to structure it in python files.\n",
    " \n",
    "## What we expect\n",
    "\n",
    "We understand that this is a very difficult problem and we are not expecting a model with a high predictive power. However, we will evaluate the following points:\n",
    "\n",
    " - how you thought about tackling this problem\n",
    " - a well-structured code\n",
    " - your modelling approach\n",
    " - how well you evaluate your model (although the level of predictive power is not an issue)\n",
    " - some conclusions on what/where to improve in your model\n",
    " \n",
    "**The deadline to return this challenge is 24h after receiving it**; we do not expect you to put more than 2-3 hours of work on this exercise.\n",
    "\n",
    "We look forward to reviewing your solution! Good luck!"
   ]
  },
  {
   "cell_type": "code",
   "execution_count": null,
   "metadata": {},
   "outputs": [],
   "source": []
  }
 ],
 "metadata": {
  "kernelspec": {
   "display_name": "Python 3",
   "language": "python",
   "name": "python3"
  },
  "language_info": {
   "codemirror_mode": {
    "name": "ipython",
    "version": 3
   },
   "file_extension": ".py",
   "mimetype": "text/x-python",
   "name": "python",
   "nbconvert_exporter": "python",
   "pygments_lexer": "ipython3",
   "version": "3.7.3"
  }
 },
 "nbformat": 4,
 "nbformat_minor": 2
}
