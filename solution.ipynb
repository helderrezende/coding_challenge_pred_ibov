{
 "cells": [
  {
   "cell_type": "code",
   "execution_count": 24,
   "metadata": {
    "ExecuteTime": {
     "end_time": "2020-04-23T15:59:47.827129Z",
     "start_time": "2020-04-23T15:59:47.780862Z"
    }
   },
   "outputs": [
    {
     "name": "stdout",
     "output_type": "stream",
     "text": [
      "The autoreload extension is already loaded. To reload it, use:\n",
      "  %reload_ext autoreload\n"
     ]
    }
   ],
   "source": [
    "import pandas as pd\n",
    "from sklearn.model_selection import RepeatedStratifiedKFold\n",
    "from sklearn.model_selection import RepeatedKFold\n",
    "from sklearn.model_selection import cross_val_score\n",
    "from sklearn.model_selection import train_test_split\n",
    "from sklearn.model_selection import GridSearchCV\n",
    "from numpy import mean\n",
    "from numpy import std\n",
    "from sklearn.datasets import make_regression\n",
    "from xgboost import XGBClassifier\n",
    "from xgboost import XGBRegressor\n",
    "from xgboost import DMatrix\n",
    "from matplotlib import pyplot\n",
    "from statsmodels.graphics.tsaplots import plot_acf, plot_pacf\n",
    "import pyfolio\n",
    "\n",
    "from datalayer import get_train_data\n",
    "from plot_curves import plot_learning_curve\n",
    "\n",
    "\n",
    "%matplotlib inline\n",
    "%load_ext autoreload\n",
    "%autoreload 2"
   ]
  },
  {
   "cell_type": "markdown",
   "metadata": {},
   "source": [
    "## Data analysis"
   ]
  },
  {
   "cell_type": "code",
   "execution_count": 25,
   "metadata": {
    "ExecuteTime": {
     "end_time": "2020-04-23T15:59:48.271685Z",
     "start_time": "2020-04-23T15:59:48.172936Z"
    }
   },
   "outputs": [
    {
     "name": "stderr",
     "output_type": "stream",
     "text": [
      "/Users/helderrezende/coding_challenge_pred_ibov/datalayer.py:38: FutureWarning: using a dict with renaming is deprecated and will be removed in a future version\n",
      "  result = result.resample(resample_time).agg({'close': 'last'})\n"
     ]
    },
    {
     "data": {
      "text/html": [
       "<div>\n",
       "<style scoped>\n",
       "    .dataframe tbody tr th:only-of-type {\n",
       "        vertical-align: middle;\n",
       "    }\n",
       "\n",
       "    .dataframe tbody tr th {\n",
       "        vertical-align: top;\n",
       "    }\n",
       "\n",
       "    .dataframe thead th {\n",
       "        text-align: right;\n",
       "    }\n",
       "</style>\n",
       "<table border=\"1\" class=\"dataframe\">\n",
       "  <thead>\n",
       "    <tr style=\"text-align: right;\">\n",
       "      <th></th>\n",
       "      <th>ibov</th>\n",
       "      <th>spx</th>\n",
       "      <th>uc1</th>\n",
       "      <th>br_econ_uncert</th>\n",
       "    </tr>\n",
       "    <tr>\n",
       "      <th>ref_date</th>\n",
       "      <th></th>\n",
       "      <th></th>\n",
       "      <th></th>\n",
       "      <th></th>\n",
       "    </tr>\n",
       "  </thead>\n",
       "  <tbody>\n",
       "    <tr>\n",
       "      <th>2000-02-18</th>\n",
       "      <td>0.016882</td>\n",
       "      <td>-0.015530</td>\n",
       "      <td>-0.014888</td>\n",
       "      <td>-0.244322</td>\n",
       "    </tr>\n",
       "    <tr>\n",
       "      <th>2000-03-09</th>\n",
       "      <td>0.003007</td>\n",
       "      <td>0.103190</td>\n",
       "      <td>-0.005703</td>\n",
       "      <td>0.000000</td>\n",
       "    </tr>\n",
       "    <tr>\n",
       "      <th>2000-03-29</th>\n",
       "      <td>-0.192073</td>\n",
       "      <td>-0.070497</td>\n",
       "      <td>0.021508</td>\n",
       "      <td>0.784052</td>\n",
       "    </tr>\n",
       "    <tr>\n",
       "      <th>2000-04-18</th>\n",
       "      <td>0.027146</td>\n",
       "      <td>0.022256</td>\n",
       "      <td>0.019652</td>\n",
       "      <td>0.000000</td>\n",
       "    </tr>\n",
       "    <tr>\n",
       "      <th>2000-05-08</th>\n",
       "      <td>-0.067831</td>\n",
       "      <td>-0.035676</td>\n",
       "      <td>0.018722</td>\n",
       "      <td>0.000000</td>\n",
       "    </tr>\n",
       "  </tbody>\n",
       "</table>\n",
       "</div>"
      ],
      "text/plain": [
       "                ibov       spx       uc1  br_econ_uncert\n",
       "ref_date                                                \n",
       "2000-02-18  0.016882 -0.015530 -0.014888       -0.244322\n",
       "2000-03-09  0.003007  0.103190 -0.005703        0.000000\n",
       "2000-03-29 -0.192073 -0.070497  0.021508        0.784052\n",
       "2000-04-18  0.027146  0.022256  0.019652        0.000000\n",
       "2000-05-08 -0.067831 -0.035676  0.018722        0.000000"
      ]
     },
     "execution_count": 25,
     "metadata": {},
     "output_type": "execute_result"
    }
   ],
   "source": [
    "data = get_train_data()\n",
    "\n",
    "data.head()"
   ]
  },
  {
   "cell_type": "markdown",
   "metadata": {},
   "source": [
    "**Correlation**"
   ]
  },
  {
   "cell_type": "code",
   "execution_count": 26,
   "metadata": {
    "ExecuteTime": {
     "end_time": "2020-04-23T15:59:48.817257Z",
     "start_time": "2020-04-23T15:59:48.774444Z"
    }
   },
   "outputs": [
    {
     "data": {
      "text/html": [
       "<div>\n",
       "<style scoped>\n",
       "    .dataframe tbody tr th:only-of-type {\n",
       "        vertical-align: middle;\n",
       "    }\n",
       "\n",
       "    .dataframe tbody tr th {\n",
       "        vertical-align: top;\n",
       "    }\n",
       "\n",
       "    .dataframe thead th {\n",
       "        text-align: right;\n",
       "    }\n",
       "</style>\n",
       "<table border=\"1\" class=\"dataframe\">\n",
       "  <thead>\n",
       "    <tr style=\"text-align: right;\">\n",
       "      <th></th>\n",
       "      <th>ibov</th>\n",
       "      <th>spx</th>\n",
       "      <th>uc1</th>\n",
       "      <th>br_econ_uncert</th>\n",
       "    </tr>\n",
       "  </thead>\n",
       "  <tbody>\n",
       "    <tr>\n",
       "      <th>ibov</th>\n",
       "      <td>1.000000</td>\n",
       "      <td>0.572297</td>\n",
       "      <td>-0.543317</td>\n",
       "      <td>-0.029350</td>\n",
       "    </tr>\n",
       "    <tr>\n",
       "      <th>spx</th>\n",
       "      <td>0.572297</td>\n",
       "      <td>1.000000</td>\n",
       "      <td>-0.396351</td>\n",
       "      <td>-0.134966</td>\n",
       "    </tr>\n",
       "    <tr>\n",
       "      <th>uc1</th>\n",
       "      <td>-0.543317</td>\n",
       "      <td>-0.396351</td>\n",
       "      <td>1.000000</td>\n",
       "      <td>0.123112</td>\n",
       "    </tr>\n",
       "    <tr>\n",
       "      <th>br_econ_uncert</th>\n",
       "      <td>-0.029350</td>\n",
       "      <td>-0.134966</td>\n",
       "      <td>0.123112</td>\n",
       "      <td>1.000000</td>\n",
       "    </tr>\n",
       "  </tbody>\n",
       "</table>\n",
       "</div>"
      ],
      "text/plain": [
       "                    ibov       spx       uc1  br_econ_uncert\n",
       "ibov            1.000000  0.572297 -0.543317       -0.029350\n",
       "spx             0.572297  1.000000 -0.396351       -0.134966\n",
       "uc1            -0.543317 -0.396351  1.000000        0.123112\n",
       "br_econ_uncert -0.029350 -0.134966  0.123112        1.000000"
      ]
     },
     "execution_count": 26,
     "metadata": {},
     "output_type": "execute_result"
    }
   ],
   "source": [
    "data.corr()"
   ]
  },
  {
   "cell_type": "markdown",
   "metadata": {},
   "source": [
    "### Ibov analysis"
   ]
  },
  {
   "cell_type": "code",
   "execution_count": 27,
   "metadata": {
    "ExecuteTime": {
     "end_time": "2020-04-23T15:59:49.524729Z",
     "start_time": "2020-04-23T15:59:49.286571Z"
    }
   },
   "outputs": [
    {
     "data": {
      "text/plain": [
       "<matplotlib.axes._subplots.AxesSubplot at 0x1c2076bdd8>"
      ]
     },
     "execution_count": 27,
     "metadata": {},
     "output_type": "execute_result"
    },
    {
     "data": {
      "image/png": "[encoded data removed]",
      "text/plain": [
       "<Figure size 432x288 with 1 Axes>"
      ]
     },
     "metadata": {
      "needs_background": "light"
     },
     "output_type": "display_data"
    }
   ],
   "source": [
    "data['ibov'].plot()"
   ]
  },
  {
   "cell_type": "markdown",
   "metadata": {
    "ExecuteTime": {
     "end_time": "2020-04-23T15:15:43.616327Z",
     "start_time": "2020-04-23T15:15:43.581984Z"
    }
   },
   "source": [
    "#### Looking autocorrelation"
   ]
  },
  {
   "cell_type": "markdown",
   "metadata": {},
   "source": [
    "##### Autocorrelation"
   ]
  },
  {
   "cell_type": "code",
   "execution_count": 28,
   "metadata": {
    "ExecuteTime": {
     "end_time": "2020-04-23T15:59:50.219809Z",
     "start_time": "2020-04-23T15:59:50.050439Z"
    }
   },
   "outputs": [
    {
     "data": {
      "image/png": "[encoded data removed]",
      "text/plain": [
       "<Figure size 432x288 with 1 Axes>"
      ]
     },
     "metadata": {
      "needs_background": "light"
     },
     "output_type": "display_data"
    }
   ],
   "source": [
    "plot_acf(data['ibov'].values, lags=50);"
   ]
  },
  {
   "cell_type": "markdown",
   "metadata": {
    "ExecuteTime": {
     "end_time": "2020-04-23T15:17:14.064084Z",
     "start_time": "2020-04-23T15:17:14.027122Z"
    }
   },
   "source": [
    "##### Partial autocorrelation"
   ]
  },
  {
   "cell_type": "code",
   "execution_count": 29,
   "metadata": {
    "ExecuteTime": {
     "end_time": "2020-04-23T15:59:50.839018Z",
     "start_time": "2020-04-23T15:59:50.663107Z"
    }
   },
   "outputs": [
    {
     "data": {
      "image/png": "[encoded data removed]",
      "text/plain": [
       "<Figure size 432x288 with 1 Axes>"
      ]
     },
     "metadata": {
      "needs_background": "light"
     },
     "output_type": "display_data"
    }
   ],
   "source": [
    "plot_pacf(data['ibov'].values, lags=50);"
   ]
  },
  {
   "cell_type": "markdown",
   "metadata": {},
   "source": [
    "### Features"
   ]
  },
  {
   "cell_type": "markdown",
   "metadata": {},
   "source": [
    "#### Creating lags"
   ]
  },
  {
   "cell_type": "code",
   "execution_count": 30,
   "metadata": {
    "ExecuteTime": {
     "end_time": "2020-04-23T15:59:51.791639Z",
     "start_time": "2020-04-23T15:59:51.694849Z"
    }
   },
   "outputs": [],
   "source": [
    "data['ibov_lag1'] = data['ibov'].shift(1)\n",
    "\n",
    "data['ibov_lag3'] = data['ibov'].shift(3)\n",
    "\n",
    "data['spx_lag1'] = data['spx'].shift(1)\n",
    "data['uc1_lag1'] = data['uc1'].shift(1)\n",
    "data['br_econ_uncert_lag1'] = data['br_econ_uncert'].shift(1)\n",
    "\n",
    "data = data.drop(columns=['spx', 'uc1', 'br_econ_uncert'])\n",
    "\n",
    "data = data.dropna()"
   ]
  },
  {
   "cell_type": "code",
   "execution_count": 31,
   "metadata": {
    "ExecuteTime": {
     "end_time": "2020-04-23T15:59:51.983510Z",
     "start_time": "2020-04-23T15:59:51.939706Z"
    }
   },
   "outputs": [
    {
     "data": {
      "text/html": [
       "<div>\n",
       "<style scoped>\n",
       "    .dataframe tbody tr th:only-of-type {\n",
       "        vertical-align: middle;\n",
       "    }\n",
       "\n",
       "    .dataframe tbody tr th {\n",
       "        vertical-align: top;\n",
       "    }\n",
       "\n",
       "    .dataframe thead th {\n",
       "        text-align: right;\n",
       "    }\n",
       "</style>\n",
       "<table border=\"1\" class=\"dataframe\">\n",
       "  <thead>\n",
       "    <tr style=\"text-align: right;\">\n",
       "      <th></th>\n",
       "      <th>ibov</th>\n",
       "      <th>ibov_lag1</th>\n",
       "      <th>ibov_lag3</th>\n",
       "      <th>spx_lag1</th>\n",
       "      <th>uc1_lag1</th>\n",
       "      <th>br_econ_uncert_lag1</th>\n",
       "    </tr>\n",
       "    <tr>\n",
       "      <th>ref_date</th>\n",
       "      <th></th>\n",
       "      <th></th>\n",
       "      <th></th>\n",
       "      <th></th>\n",
       "      <th></th>\n",
       "      <th></th>\n",
       "    </tr>\n",
       "  </thead>\n",
       "  <tbody>\n",
       "    <tr>\n",
       "      <th>2000-04-18</th>\n",
       "      <td>0.027146</td>\n",
       "      <td>-0.192073</td>\n",
       "      <td>0.016882</td>\n",
       "      <td>-0.070497</td>\n",
       "      <td>0.021508</td>\n",
       "      <td>0.784052</td>\n",
       "    </tr>\n",
       "    <tr>\n",
       "      <th>2000-05-08</th>\n",
       "      <td>-0.067831</td>\n",
       "      <td>0.027146</td>\n",
       "      <td>0.003007</td>\n",
       "      <td>0.022256</td>\n",
       "      <td>0.019652</td>\n",
       "      <td>0.000000</td>\n",
       "    </tr>\n",
       "    <tr>\n",
       "      <th>2000-05-26</th>\n",
       "      <td>0.153711</td>\n",
       "      <td>-0.067831</td>\n",
       "      <td>-0.192073</td>\n",
       "      <td>-0.035676</td>\n",
       "      <td>0.018722</td>\n",
       "      <td>0.000000</td>\n",
       "    </tr>\n",
       "    <tr>\n",
       "      <th>2000-06-15</th>\n",
       "      <td>0.044142</td>\n",
       "      <td>0.153711</td>\n",
       "      <td>0.027146</td>\n",
       "      <td>0.064436</td>\n",
       "      <td>-0.017027</td>\n",
       "      <td>1.580763</td>\n",
       "    </tr>\n",
       "    <tr>\n",
       "      <th>2000-07-05</th>\n",
       "      <td>0.017406</td>\n",
       "      <td>0.044142</td>\n",
       "      <td>-0.067831</td>\n",
       "      <td>-0.000680</td>\n",
       "      <td>0.006324</td>\n",
       "      <td>-0.437437</td>\n",
       "    </tr>\n",
       "  </tbody>\n",
       "</table>\n",
       "</div>"
      ],
      "text/plain": [
       "                ibov  ibov_lag1  ibov_lag3  spx_lag1  uc1_lag1  \\\n",
       "ref_date                                                         \n",
       "2000-04-18  0.027146  -0.192073   0.016882 -0.070497  0.021508   \n",
       "2000-05-08 -0.067831   0.027146   0.003007  0.022256  0.019652   \n",
       "2000-05-26  0.153711  -0.067831  -0.192073 -0.035676  0.018722   \n",
       "2000-06-15  0.044142   0.153711   0.027146  0.064436 -0.017027   \n",
       "2000-07-05  0.017406   0.044142  -0.067831 -0.000680  0.006324   \n",
       "\n",
       "            br_econ_uncert_lag1  \n",
       "ref_date                         \n",
       "2000-04-18             0.784052  \n",
       "2000-05-08             0.000000  \n",
       "2000-05-26             0.000000  \n",
       "2000-06-15             1.580763  \n",
       "2000-07-05            -0.437437  "
      ]
     },
     "execution_count": 31,
     "metadata": {},
     "output_type": "execute_result"
    }
   ],
   "source": [
    "data.head()"
   ]
  },
  {
   "cell_type": "markdown",
   "metadata": {},
   "source": [
    "#### Creating date features"
   ]
  },
  {
   "cell_type": "code",
   "execution_count": 32,
   "metadata": {
    "ExecuteTime": {
     "end_time": "2020-04-23T15:59:52.574409Z",
     "start_time": "2020-04-23T15:59:52.495255Z"
    }
   },
   "outputs": [],
   "source": [
    "data['month'] = data.reset_index()['ref_date'].dt.month.values"
   ]
  },
  {
   "cell_type": "code",
   "execution_count": 33,
   "metadata": {
    "ExecuteTime": {
     "end_time": "2020-04-23T15:59:52.783976Z",
     "start_time": "2020-04-23T15:59:52.739140Z"
    }
   },
   "outputs": [
    {
     "data": {
      "text/html": [
       "<div>\n",
       "<style scoped>\n",
       "    .dataframe tbody tr th:only-of-type {\n",
       "        vertical-align: middle;\n",
       "    }\n",
       "\n",
       "    .dataframe tbody tr th {\n",
       "        vertical-align: top;\n",
       "    }\n",
       "\n",
       "    .dataframe thead th {\n",
       "        text-align: right;\n",
       "    }\n",
       "</style>\n",
       "<table border=\"1\" class=\"dataframe\">\n",
       "  <thead>\n",
       "    <tr style=\"text-align: right;\">\n",
       "      <th></th>\n",
       "      <th>ibov</th>\n",
       "      <th>ibov_lag1</th>\n",
       "      <th>ibov_lag3</th>\n",
       "      <th>spx_lag1</th>\n",
       "      <th>uc1_lag1</th>\n",
       "      <th>br_econ_uncert_lag1</th>\n",
       "      <th>month</th>\n",
       "    </tr>\n",
       "    <tr>\n",
       "      <th>ref_date</th>\n",
       "      <th></th>\n",
       "      <th></th>\n",
       "      <th></th>\n",
       "      <th></th>\n",
       "      <th></th>\n",
       "      <th></th>\n",
       "      <th></th>\n",
       "    </tr>\n",
       "  </thead>\n",
       "  <tbody>\n",
       "    <tr>\n",
       "      <th>2000-04-18</th>\n",
       "      <td>0.027146</td>\n",
       "      <td>-0.192073</td>\n",
       "      <td>0.016882</td>\n",
       "      <td>-0.070497</td>\n",
       "      <td>0.021508</td>\n",
       "      <td>0.784052</td>\n",
       "      <td>4</td>\n",
       "    </tr>\n",
       "    <tr>\n",
       "      <th>2000-05-08</th>\n",
       "      <td>-0.067831</td>\n",
       "      <td>0.027146</td>\n",
       "      <td>0.003007</td>\n",
       "      <td>0.022256</td>\n",
       "      <td>0.019652</td>\n",
       "      <td>0.000000</td>\n",
       "      <td>5</td>\n",
       "    </tr>\n",
       "    <tr>\n",
       "      <th>2000-05-26</th>\n",
       "      <td>0.153711</td>\n",
       "      <td>-0.067831</td>\n",
       "      <td>-0.192073</td>\n",
       "      <td>-0.035676</td>\n",
       "      <td>0.018722</td>\n",
       "      <td>0.000000</td>\n",
       "      <td>5</td>\n",
       "    </tr>\n",
       "    <tr>\n",
       "      <th>2000-06-15</th>\n",
       "      <td>0.044142</td>\n",
       "      <td>0.153711</td>\n",
       "      <td>0.027146</td>\n",
       "      <td>0.064436</td>\n",
       "      <td>-0.017027</td>\n",
       "      <td>1.580763</td>\n",
       "      <td>6</td>\n",
       "    </tr>\n",
       "    <tr>\n",
       "      <th>2000-07-05</th>\n",
       "      <td>0.017406</td>\n",
       "      <td>0.044142</td>\n",
       "      <td>-0.067831</td>\n",
       "      <td>-0.000680</td>\n",
       "      <td>0.006324</td>\n",
       "      <td>-0.437437</td>\n",
       "      <td>7</td>\n",
       "    </tr>\n",
       "  </tbody>\n",
       "</table>\n",
       "</div>"
      ],
      "text/plain": [
       "                ibov  ibov_lag1  ibov_lag3  spx_lag1  uc1_lag1  \\\n",
       "ref_date                                                         \n",
       "2000-04-18  0.027146  -0.192073   0.016882 -0.070497  0.021508   \n",
       "2000-05-08 -0.067831   0.027146   0.003007  0.022256  0.019652   \n",
       "2000-05-26  0.153711  -0.067831  -0.192073 -0.035676  0.018722   \n",
       "2000-06-15  0.044142   0.153711   0.027146  0.064436 -0.017027   \n",
       "2000-07-05  0.017406   0.044142  -0.067831 -0.000680  0.006324   \n",
       "\n",
       "            br_econ_uncert_lag1  month  \n",
       "ref_date                                \n",
       "2000-04-18             0.784052      4  \n",
       "2000-05-08             0.000000      5  \n",
       "2000-05-26             0.000000      5  \n",
       "2000-06-15             1.580763      6  \n",
       "2000-07-05            -0.437437      7  "
      ]
     },
     "execution_count": 33,
     "metadata": {},
     "output_type": "execute_result"
    }
   ],
   "source": [
    "data.head()"
   ]
  },
  {
   "cell_type": "markdown",
   "metadata": {
    "ExecuteTime": {
     "end_time": "2020-04-23T15:38:50.094791Z",
     "start_time": "2020-04-23T15:38:50.060811Z"
    }
   },
   "source": [
    "### Model"
   ]
  },
  {
   "cell_type": "code",
   "execution_count": 34,
   "metadata": {
    "ExecuteTime": {
     "end_time": "2020-04-23T15:59:53.365454Z",
     "start_time": "2020-04-23T15:59:53.329207Z"
    }
   },
   "outputs": [],
   "source": [
    "X = data.drop('ibov', axis=1).values \n",
    "y = data['ibov'].values"
   ]
  },
  {
   "cell_type": "markdown",
   "metadata": {},
   "source": [
    "#### Perfomance "
   ]
  },
  {
   "cell_type": "code",
   "execution_count": 35,
   "metadata": {
    "ExecuteTime": {
     "end_time": "2020-04-23T15:59:54.877358Z",
     "start_time": "2020-04-23T15:59:53.767324Z"
    }
   },
   "outputs": [],
   "source": [
    "model = XGBRegressor(objective='reg:squarederror')\n",
    "cv = RepeatedKFold(n_splits=10, n_repeats=3, random_state=1)\n",
    "n_scores = cross_val_score(model, X, y, scoring='neg_mean_absolute_error', cv=cv, n_jobs=-1, error_score='raise')"
   ]
  },
  {
   "cell_type": "code",
   "execution_count": 36,
   "metadata": {
    "ExecuteTime": {
     "end_time": "2020-04-23T15:59:54.936413Z",
     "start_time": "2020-04-23T15:59:54.880208Z"
    }
   },
   "outputs": [
    {
     "name": "stdout",
     "output_type": "stream",
     "text": [
      "MAE: -0.049 (0.005)\n"
     ]
    },
    {
     "data": {
      "text/plain": [
       "XGBRegressor(base_score=0.5, booster='gbtree', colsample_bylevel=1,\n",
       "             colsample_bynode=1, colsample_bytree=1, gamma=0,\n",
       "             importance_type='gain', learning_rate=0.1, max_delta_step=0,\n",
       "             max_depth=3, min_child_weight=1, missing=None, n_estimators=100,\n",
       "             n_jobs=1, nthread=None, objective='reg:squarederror',\n",
       "             random_state=0, reg_alpha=0, reg_lambda=1, scale_pos_weight=1,\n",
       "             seed=None, silent=None, subsample=1, verbosity=1)"
      ]
     },
     "execution_count": 36,
     "metadata": {},
     "output_type": "execute_result"
    }
   ],
   "source": [
    "print('MAE: %.3f (%.3f)' % (mean(n_scores), std(n_scores)))\n",
    "# fit the model on the whole dataset\n",
    "model = XGBRegressor(objective='reg:squarederror')\n",
    "model.fit(X, y)"
   ]
  },
  {
   "cell_type": "markdown",
   "metadata": {},
   "source": [
    "#### Tunning Parameters"
   ]
  },
  {
   "cell_type": "markdown",
   "metadata": {},
   "source": [
    "Source: https://www.linkedin.com/pulse/approaching-almost-any-machine-learning-problem-abhishek-thakur/"
   ]
  },
  {
   "cell_type": "code",
   "execution_count": null,
   "metadata": {
    "ExecuteTime": {
     "start_time": "2020-04-23T16:19:37.365Z"
    }
   },
   "outputs": [],
   "source": [
    "params = {'min_child_weight': [1, 3, 5, 7],\n",
    "         'gamma': [i/10.0 for i in range(5 ,11)],\n",
    "         'subsample': [i/10.0 for i in range(6, 11)],\n",
    "         'colsample_bytree': [i/10.0 for i in range(6, 11)],\n",
    "         'max_depth': [3, 5, 7, 9, 12]}\n",
    "\n",
    "kfold = RepeatedKFold(n_splits=10, n_repeats=3, random_state=1)\n",
    "grid_search = GridSearchCV(model, params, scoring=\"neg_mean_squared_error\", n_jobs=-1, cv=kfold)\n",
    "grid_result = grid_search.fit(X, y)"
   ]
  },
  {
   "cell_type": "code",
   "execution_count": null,
   "metadata": {
    "ExecuteTime": {
     "start_time": "2020-04-23T16:19:37.862Z"
    }
   },
   "outputs": [],
   "source": [
    "print(\"Best: %f using %s\" % (grid_result.best_score_, grid_result.best_params_))"
   ]
  },
  {
   "cell_type": "code",
   "execution_count": null,
   "metadata": {},
   "outputs": [],
   "source": []
  },
  {
   "cell_type": "markdown",
   "metadata": {},
   "source": [
    "#### Learning Curve"
   ]
  },
  {
   "cell_type": "code",
   "execution_count": 18,
   "metadata": {
    "ExecuteTime": {
     "end_time": "2020-04-23T15:56:10.029699Z",
     "start_time": "2020-04-23T15:56:09.846554Z"
    },
    "scrolled": false
   },
   "outputs": [
    {
     "name": "stdout",
     "output_type": "stream",
     "text": [
      "[0]\tvalidation_0-rmse:0.450707\tvalidation_1-rmse:0.439456\n",
      "[1]\tvalidation_0-rmse:0.40662\tvalidation_1-rmse:0.395315\n",
      "[2]\tvalidation_0-rmse:0.367011\tvalidation_1-rmse:0.35565\n",
      "[3]\tvalidation_0-rmse:0.331442\tvalidation_1-rmse:0.320021\n",
      "[4]\tvalidation_0-rmse:0.299521\tvalidation_1-rmse:0.288038\n",
      "[5]\tvalidation_0-rmse:0.270895\tvalidation_1-rmse:0.259348\n",
      "[6]\tvalidation_0-rmse:0.245246\tvalidation_1-rmse:0.233635\n",
      "[7]\tvalidation_0-rmse:0.22229\tvalidation_1-rmse:0.210615\n",
      "[8]\tvalidation_0-rmse:0.201771\tvalidation_1-rmse:0.190034\n",
      "[9]\tvalidation_0-rmse:0.183458\tvalidation_1-rmse:0.171789\n",
      "[10]\tvalidation_0-rmse:0.167139\tvalidation_1-rmse:0.155424\n",
      "[11]\tvalidation_0-rmse:0.152552\tvalidation_1-rmse:0.141143\n",
      "[12]\tvalidation_0-rmse:0.139585\tvalidation_1-rmse:0.12859\n",
      "[13]\tvalidation_0-rmse:0.127989\tvalidation_1-rmse:0.117395\n",
      "[14]\tvalidation_0-rmse:0.117524\tvalidation_1-rmse:0.107633\n",
      "[15]\tvalidation_0-rmse:0.108463\tvalidation_1-rmse:0.099162\n",
      "[16]\tvalidation_0-rmse:0.100403\tvalidation_1-rmse:0.091666\n",
      "[17]\tvalidation_0-rmse:0.093169\tvalidation_1-rmse:0.085183\n",
      "[18]\tvalidation_0-rmse:0.086797\tvalidation_1-rmse:0.080014\n",
      "[19]\tvalidation_0-rmse:0.081378\tvalidation_1-rmse:0.074798\n",
      "[20]\tvalidation_0-rmse:0.076671\tvalidation_1-rmse:0.070584\n",
      "[21]\tvalidation_0-rmse:0.07258\tvalidation_1-rmse:0.067359\n",
      "[22]\tvalidation_0-rmse:0.069008\tvalidation_1-rmse:0.064462\n",
      "[23]\tvalidation_0-rmse:0.065823\tvalidation_1-rmse:0.062313\n",
      "[24]\tvalidation_0-rmse:0.063168\tvalidation_1-rmse:0.060474\n",
      "[25]\tvalidation_0-rmse:0.06058\tvalidation_1-rmse:0.059167\n",
      "[26]\tvalidation_0-rmse:0.05861\tvalidation_1-rmse:0.058013\n",
      "[27]\tvalidation_0-rmse:0.056949\tvalidation_1-rmse:0.057167\n",
      "[28]\tvalidation_0-rmse:0.055415\tvalidation_1-rmse:0.0567\n",
      "[29]\tvalidation_0-rmse:0.054238\tvalidation_1-rmse:0.056251\n",
      "[30]\tvalidation_0-rmse:0.053111\tvalidation_1-rmse:0.056015\n",
      "[31]\tvalidation_0-rmse:0.052123\tvalidation_1-rmse:0.055899\n",
      "[32]\tvalidation_0-rmse:0.051158\tvalidation_1-rmse:0.055623\n",
      "[33]\tvalidation_0-rmse:0.050491\tvalidation_1-rmse:0.055541\n",
      "[34]\tvalidation_0-rmse:0.049727\tvalidation_1-rmse:0.055499\n",
      "[35]\tvalidation_0-rmse:0.049269\tvalidation_1-rmse:0.05536\n",
      "[36]\tvalidation_0-rmse:0.048675\tvalidation_1-rmse:0.055165\n",
      "[37]\tvalidation_0-rmse:0.048098\tvalidation_1-rmse:0.055175\n",
      "[38]\tvalidation_0-rmse:0.047409\tvalidation_1-rmse:0.055467\n",
      "[39]\tvalidation_0-rmse:0.046956\tvalidation_1-rmse:0.055457\n",
      "[40]\tvalidation_0-rmse:0.046716\tvalidation_1-rmse:0.055506\n",
      "[41]\tvalidation_0-rmse:0.046476\tvalidation_1-rmse:0.055563\n",
      "[42]\tvalidation_0-rmse:0.046209\tvalidation_1-rmse:0.055735\n",
      "[43]\tvalidation_0-rmse:0.046038\tvalidation_1-rmse:0.055807\n",
      "[44]\tvalidation_0-rmse:0.045666\tvalidation_1-rmse:0.055835\n",
      "[45]\tvalidation_0-rmse:0.045489\tvalidation_1-rmse:0.055909\n",
      "[46]\tvalidation_0-rmse:0.045188\tvalidation_1-rmse:0.055817\n",
      "[47]\tvalidation_0-rmse:0.044783\tvalidation_1-rmse:0.055972\n",
      "[48]\tvalidation_0-rmse:0.044607\tvalidation_1-rmse:0.056146\n",
      "[49]\tvalidation_0-rmse:0.044242\tvalidation_1-rmse:0.056353\n",
      "[50]\tvalidation_0-rmse:0.043827\tvalidation_1-rmse:0.056456\n",
      "[51]\tvalidation_0-rmse:0.043524\tvalidation_1-rmse:0.05643\n",
      "[52]\tvalidation_0-rmse:0.043316\tvalidation_1-rmse:0.056462\n",
      "[53]\tvalidation_0-rmse:0.043098\tvalidation_1-rmse:0.056519\n",
      "[54]\tvalidation_0-rmse:0.042984\tvalidation_1-rmse:0.056667\n",
      "[55]\tvalidation_0-rmse:0.042765\tvalidation_1-rmse:0.056755\n",
      "[56]\tvalidation_0-rmse:0.042477\tvalidation_1-rmse:0.056813\n",
      "[57]\tvalidation_0-rmse:0.042236\tvalidation_1-rmse:0.056881\n",
      "[58]\tvalidation_0-rmse:0.042065\tvalidation_1-rmse:0.057019\n",
      "[59]\tvalidation_0-rmse:0.04178\tvalidation_1-rmse:0.057186\n",
      "[60]\tvalidation_0-rmse:0.041695\tvalidation_1-rmse:0.057225\n",
      "[61]\tvalidation_0-rmse:0.041464\tvalidation_1-rmse:0.057207\n",
      "[62]\tvalidation_0-rmse:0.041315\tvalidation_1-rmse:0.057248\n",
      "[63]\tvalidation_0-rmse:0.041176\tvalidation_1-rmse:0.057378\n",
      "[64]\tvalidation_0-rmse:0.040909\tvalidation_1-rmse:0.057383\n",
      "[65]\tvalidation_0-rmse:0.040836\tvalidation_1-rmse:0.057391\n",
      "[66]\tvalidation_0-rmse:0.04064\tvalidation_1-rmse:0.057329\n",
      "[67]\tvalidation_0-rmse:0.040207\tvalidation_1-rmse:0.057315\n",
      "[68]\tvalidation_0-rmse:0.039871\tvalidation_1-rmse:0.057405\n",
      "[69]\tvalidation_0-rmse:0.039682\tvalidation_1-rmse:0.057394\n",
      "[70]\tvalidation_0-rmse:0.039615\tvalidation_1-rmse:0.057425\n",
      "[71]\tvalidation_0-rmse:0.039453\tvalidation_1-rmse:0.057374\n",
      "[72]\tvalidation_0-rmse:0.03932\tvalidation_1-rmse:0.057536\n",
      "[73]\tvalidation_0-rmse:0.03908\tvalidation_1-rmse:0.057479\n",
      "[74]\tvalidation_0-rmse:0.038972\tvalidation_1-rmse:0.057548\n",
      "[75]\tvalidation_0-rmse:0.038675\tvalidation_1-rmse:0.057639\n",
      "[76]\tvalidation_0-rmse:0.038613\tvalidation_1-rmse:0.057663\n",
      "[77]\tvalidation_0-rmse:0.038474\tvalidation_1-rmse:0.057625\n",
      "[78]\tvalidation_0-rmse:0.038286\tvalidation_1-rmse:0.057644\n",
      "[79]\tvalidation_0-rmse:0.038226\tvalidation_1-rmse:0.057707\n",
      "[80]\tvalidation_0-rmse:0.038094\tvalidation_1-rmse:0.057749\n",
      "[81]\tvalidation_0-rmse:0.037803\tvalidation_1-rmse:0.057636\n",
      "[82]\tvalidation_0-rmse:0.03744\tvalidation_1-rmse:0.057595\n",
      "[83]\tvalidation_0-rmse:0.037154\tvalidation_1-rmse:0.057673\n",
      "[84]\tvalidation_0-rmse:0.036848\tvalidation_1-rmse:0.057689\n",
      "[85]\tvalidation_0-rmse:0.036575\tvalidation_1-rmse:0.057694\n",
      "[86]\tvalidation_0-rmse:0.036506\tvalidation_1-rmse:0.057806\n",
      "[87]\tvalidation_0-rmse:0.036241\tvalidation_1-rmse:0.057931\n",
      "[88]\tvalidation_0-rmse:0.036051\tvalidation_1-rmse:0.057896\n",
      "[89]\tvalidation_0-rmse:0.035936\tvalidation_1-rmse:0.057896\n",
      "[90]\tvalidation_0-rmse:0.035723\tvalidation_1-rmse:0.05802\n",
      "[91]\tvalidation_0-rmse:0.035564\tvalidation_1-rmse:0.057981\n",
      "[92]\tvalidation_0-rmse:0.035475\tvalidation_1-rmse:0.058088\n",
      "[93]\tvalidation_0-rmse:0.035256\tvalidation_1-rmse:0.058141\n",
      "[94]\tvalidation_0-rmse:0.035119\tvalidation_1-rmse:0.058118\n",
      "[95]\tvalidation_0-rmse:0.034888\tvalidation_1-rmse:0.05822\n",
      "[96]\tvalidation_0-rmse:0.034583\tvalidation_1-rmse:0.058354\n",
      "[97]\tvalidation_0-rmse:0.034238\tvalidation_1-rmse:0.058364\n",
      "[98]\tvalidation_0-rmse:0.03415\tvalidation_1-rmse:0.058389\n",
      "[99]\tvalidation_0-rmse:0.033835\tvalidation_1-rmse:0.058613\n"
     ]
    },
    {
     "data": {
      "text/plain": [
       "XGBRegressor(base_score=0.5, booster='gbtree', colsample_bylevel=1,\n",
       "             colsample_bynode=1, colsample_bytree=1, gamma=0,\n",
       "             importance_type='gain', learning_rate=0.1, max_delta_step=0,\n",
       "             max_depth=3, min_child_weight=1, missing=None, n_estimators=100,\n",
       "             n_jobs=1, nthread=None, objective='reg:squarederror',\n",
       "             random_state=0, reg_alpha=0, reg_lambda=1, scale_pos_weight=1,\n",
       "             seed=None, silent=None, subsample=1, verbosity=1)"
      ]
     },
     "execution_count": 18,
     "metadata": {},
     "output_type": "execute_result"
    }
   ],
   "source": [
    "X_train, X_test, y_train, y_test = train_test_split(X, y, test_size=0.33, random_state=7)\n",
    "# fit model no training data\n",
    "model = XGBRegressor(objective='reg:squarederror')\n",
    "eval_set = [(X_train, y_train), (X_test, y_test)]\n",
    "model.fit(X_train, y_train, eval_metric=[\"rmse\"], eval_set=eval_set, verbose=True)"
   ]
  },
  {
   "cell_type": "code",
   "execution_count": null,
   "metadata": {},
   "outputs": [],
   "source": [
    "plot_learning_curve(model)"
   ]
  },
  {
   "cell_type": "code",
   "execution_count": 19,
   "metadata": {
    "ExecuteTime": {
     "end_time": "2020-04-23T15:56:10.570907Z",
     "start_time": "2020-04-23T15:56:10.409333Z"
    }
   },
   "outputs": [
    {
     "data": {
      "image/png": "[encoded data removed]",
      "text/plain": [
       "<Figure size 432x288 with 1 Axes>"
      ]
     },
     "metadata": {
      "needs_background": "light"
     },
     "output_type": "display_data"
    }
   ],
   "source": [
    "results = model.evals_result()\n",
    "epochs = len(results['validation_0']['rmse'])\n",
    "x_axis = range(0, epochs)\n",
    "\n",
    "fig, ax = pyplot.subplots()\n",
    "ax.plot(x_axis, results['validation_0']['rmse'], label='Train')\n",
    "ax.plot(x_axis, results['validation_1']['rmse'], label='Test')\n",
    "ax.legend()\n",
    "pyplot.ylabel('Log Loss')\n",
    "pyplot.title('XGBoost Log Loss')\n",
    "pyplot.show()"
   ]
  },
  {
   "cell_type": "markdown",
   "metadata": {},
   "source": [
    "using early_stopping_rounds "
   ]
  },
  {
   "cell_type": "code",
   "execution_count": 16,
   "metadata": {
    "ExecuteTime": {
     "end_time": "2020-04-23T15:54:36.565116Z",
     "start_time": "2020-04-23T15:54:36.449688Z"
    }
   },
   "outputs": [
    {
     "name": "stdout",
     "output_type": "stream",
     "text": [
      "[0]\tvalidation_0-rmse:0.450707\tvalidation_1-rmse:0.439456\n",
      "Multiple eval metrics have been passed: 'validation_1-rmse' will be used for early stopping.\n",
      "\n",
      "Will train until validation_1-rmse hasn't improved in 5 rounds.\n",
      "[1]\tvalidation_0-rmse:0.40662\tvalidation_1-rmse:0.395315\n",
      "[2]\tvalidation_0-rmse:0.367011\tvalidation_1-rmse:0.35565\n",
      "[3]\tvalidation_0-rmse:0.331442\tvalidation_1-rmse:0.320021\n",
      "[4]\tvalidation_0-rmse:0.299521\tvalidation_1-rmse:0.288038\n",
      "[5]\tvalidation_0-rmse:0.270895\tvalidation_1-rmse:0.259348\n",
      "[6]\tvalidation_0-rmse:0.245246\tvalidation_1-rmse:0.233635\n",
      "[7]\tvalidation_0-rmse:0.22229\tvalidation_1-rmse:0.210615\n",
      "[8]\tvalidation_0-rmse:0.201771\tvalidation_1-rmse:0.190034\n",
      "[9]\tvalidation_0-rmse:0.183458\tvalidation_1-rmse:0.171789\n",
      "[10]\tvalidation_0-rmse:0.167139\tvalidation_1-rmse:0.155424\n",
      "[11]\tvalidation_0-rmse:0.152552\tvalidation_1-rmse:0.141143\n",
      "[12]\tvalidation_0-rmse:0.139585\tvalidation_1-rmse:0.12859\n",
      "[13]\tvalidation_0-rmse:0.127989\tvalidation_1-rmse:0.117395\n",
      "[14]\tvalidation_0-rmse:0.117524\tvalidation_1-rmse:0.107633\n",
      "[15]\tvalidation_0-rmse:0.108463\tvalidation_1-rmse:0.099162\n",
      "[16]\tvalidation_0-rmse:0.100403\tvalidation_1-rmse:0.091666\n",
      "[17]\tvalidation_0-rmse:0.093169\tvalidation_1-rmse:0.085183\n",
      "[18]\tvalidation_0-rmse:0.086797\tvalidation_1-rmse:0.080014\n",
      "[19]\tvalidation_0-rmse:0.081378\tvalidation_1-rmse:0.074798\n",
      "[20]\tvalidation_0-rmse:0.076671\tvalidation_1-rmse:0.070584\n",
      "[21]\tvalidation_0-rmse:0.07258\tvalidation_1-rmse:0.067359\n",
      "[22]\tvalidation_0-rmse:0.069008\tvalidation_1-rmse:0.064462\n",
      "[23]\tvalidation_0-rmse:0.065823\tvalidation_1-rmse:0.062313\n",
      "[24]\tvalidation_0-rmse:0.063168\tvalidation_1-rmse:0.060474\n",
      "[25]\tvalidation_0-rmse:0.06058\tvalidation_1-rmse:0.059167\n",
      "[26]\tvalidation_0-rmse:0.05861\tvalidation_1-rmse:0.058013\n",
      "[27]\tvalidation_0-rmse:0.056949\tvalidation_1-rmse:0.057167\n",
      "[28]\tvalidation_0-rmse:0.055415\tvalidation_1-rmse:0.0567\n",
      "[29]\tvalidation_0-rmse:0.054238\tvalidation_1-rmse:0.056251\n",
      "[30]\tvalidation_0-rmse:0.053111\tvalidation_1-rmse:0.056015\n",
      "[31]\tvalidation_0-rmse:0.052123\tvalidation_1-rmse:0.055899\n",
      "[32]\tvalidation_0-rmse:0.051158\tvalidation_1-rmse:0.055623\n",
      "[33]\tvalidation_0-rmse:0.050491\tvalidation_1-rmse:0.055541\n",
      "[34]\tvalidation_0-rmse:0.049727\tvalidation_1-rmse:0.055499\n",
      "[35]\tvalidation_0-rmse:0.049269\tvalidation_1-rmse:0.05536\n",
      "[36]\tvalidation_0-rmse:0.048675\tvalidation_1-rmse:0.055165\n",
      "[37]\tvalidation_0-rmse:0.048098\tvalidation_1-rmse:0.055175\n",
      "[38]\tvalidation_0-rmse:0.047409\tvalidation_1-rmse:0.055467\n",
      "[39]\tvalidation_0-rmse:0.046956\tvalidation_1-rmse:0.055457\n",
      "[40]\tvalidation_0-rmse:0.046716\tvalidation_1-rmse:0.055506\n",
      "[41]\tvalidation_0-rmse:0.046476\tvalidation_1-rmse:0.055563\n",
      "Stopping. Best iteration:\n",
      "[36]\tvalidation_0-rmse:0.048675\tvalidation_1-rmse:0.055165\n",
      "\n"
     ]
    },
    {
     "data": {
      "text/plain": [
       "XGBRegressor(base_score=0.5, booster='gbtree', colsample_bylevel=1,\n",
       "             colsample_bynode=1, colsample_bytree=1, gamma=0,\n",
       "             importance_type='gain', learning_rate=0.1, max_delta_step=0,\n",
       "             max_depth=3, min_child_weight=1, missing=None, n_estimators=100,\n",
       "             n_jobs=1, nthread=None, objective='reg:squarederror',\n",
       "             random_state=0, reg_alpha=0, reg_lambda=1, scale_pos_weight=1,\n",
       "             seed=None, silent=None, subsample=1, verbosity=1)"
      ]
     },
     "execution_count": 16,
     "metadata": {},
     "output_type": "execute_result"
    }
   ],
   "source": [
    "X_train, X_test, y_train, y_test = train_test_split(X, y, test_size=0.33, random_state=7)\n",
    "# fit model no training data\n",
    "model = XGBRegressor(objective='reg:squarederror')\n",
    "eval_set = [(X_train, y_train), (X_test, y_test)]\n",
    "model.fit(X_train, y_train, early_stopping_rounds=5, eval_metric=[\"rmse\"], eval_set=eval_set, verbose=True)"
   ]
  },
  {
   "cell_type": "code",
   "execution_count": null,
   "metadata": {},
   "outputs": [],
   "source": [
    "plot_learning_curve(model)"
   ]
  },
  {
   "cell_type": "code",
   "execution_count": 17,
   "metadata": {
    "ExecuteTime": {
     "end_time": "2020-04-23T15:54:38.776585Z",
     "start_time": "2020-04-23T15:54:38.599860Z"
    }
   },
   "outputs": [
    {
     "data": {
      "image/png": "[encoded data removed]",
      "text/plain": [
       "<Figure size 432x288 with 1 Axes>"
      ]
     },
     "metadata": {
      "needs_background": "light"
     },
     "output_type": "display_data"
    }
   ],
   "source": [
    "results = model.evals_result()\n",
    "epochs = len(results['validation_0']['rmse'])\n",
    "x_axis = range(0, epochs)\n",
    "\n",
    "fig, ax = pyplot.subplots()\n",
    "ax.plot(x_axis, results['validation_0']['rmse'], label='Train')\n",
    "ax.plot(x_axis, results['validation_1']['rmse'], label='Test')\n",
    "ax.legend()\n",
    "pyplot.ylabel('Log Loss')\n",
    "pyplot.title('XGBoost Log Loss')\n",
    "pyplot.show()"
   ]
  },
  {
   "cell_type": "code",
   "execution_count": null,
   "metadata": {},
   "outputs": [],
   "source": []
  }
 ],
 "metadata": {
  "kernelspec": {
   "display_name": "Python 3",
   "language": "python",
   "name": "python3"
  },
  "language_info": {
   "codemirror_mode": {
    "name": "ipython",
    "version": 3
   },
   "file_extension": ".py",
   "mimetype": "text/x-python",
   "name": "python",
   "nbconvert_exporter": "python",
   "pygments_lexer": "ipython3",
   "version": "3.7.3"
  },
  "toc": {
   "base_numbering": 1,
   "nav_menu": {},
   "number_sections": true,
   "sideBar": true,
   "skip_h1_title": false,
   "title_cell": "Table of Contents",
   "title_sidebar": "Contents",
   "toc_cell": false,
   "toc_position": {},
   "toc_section_display": true,
   "toc_window_display": false
  }
 },
 "nbformat": 4,
 "nbformat_minor": 2
}
